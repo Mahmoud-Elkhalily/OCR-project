{
 "cells": [
  {
   "cell_type": "markdown",
   "id": "5be36b6a",
   "metadata": {},
   "source": [
    "# Install pytesseract which is responsible for OCR"
   ]
  },
  {
   "cell_type": "code",
   "execution_count": null,
   "id": "fc12e8ee",
   "metadata": {},
   "outputs": [],
   "source": [
    "!pip install pytesseract"
   ]
  },
  {
   "cell_type": "markdown",
   "id": "08e77f72",
   "metadata": {},
   "source": [
    "# Install gtts (google text to speech)"
   ]
  },
  {
   "cell_type": "code",
   "execution_count": null,
   "id": "9096eb36",
   "metadata": {},
   "outputs": [],
   "source": [
    "pip install gTTs"
   ]
  },
  {
   "cell_type": "code",
   "execution_count": 20,
   "id": "382e7652",
   "metadata": {},
   "outputs": [
    {
     "name": "stdout",
     "output_type": "stream",
     "text": [
      "Defaulting to user installation because normal site-packages is not writeable\n",
      "Requirement already satisfied: pyttsx3 in c:\\users\\eslamia\\appdata\\roaming\\python\\python39\\site-packages (2.90)\n",
      "Note: you may need to restart the kernel to use updated packages.\n",
      "Requirement already satisfied: pywin32 in c:\\program files\\anaconda\\lib\\site-packages (from pyttsx3) (302)\n",
      "Requirement already satisfied: comtypes in c:\\program files\\anaconda\\lib\\site-packages (from pyttsx3) (1.1.10)\n",
      "Requirement already satisfied: pypiwin32 in c:\\users\\eslamia\\appdata\\roaming\\python\\python39\\site-packages (from pyttsx3) (223)\n"
     ]
    }
   ],
   "source": [
    "pip install pyttsx3"
   ]
  },
  {
   "cell_type": "markdown",
   "id": "89803a81",
   "metadata": {},
   "source": [
    "# Install translate  translate library "
   ]
  },
  {
   "cell_type": "code",
   "execution_count": 13,
   "id": "0d29a7a2",
   "metadata": {
    "scrolled": false
   },
   "outputs": [
    {
     "name": "stdout",
     "output_type": "stream",
     "text": [
      "Defaulting to user installation because normal site-packages is not writeableNote: you may need to restart the kernel to use updated packages.\n"
     ]
    },
    {
     "name": "stderr",
     "output_type": "stream",
     "text": [
      "  WARNING: The script translate-cli.exe is installed in 'C:\\Users\\eslamia\\AppData\\Roaming\\Python\\Python39\\Scripts' which is not on PATH.\n",
      "  Consider adding this directory to PATH or, if you prefer to suppress this warning, use --no-warn-script-location.\n"
     ]
    },
    {
     "name": "stdout",
     "output_type": "stream",
     "text": [
      "\n",
      "Collecting translate\n",
      "  Downloading translate-3.6.1-py2.py3-none-any.whl (12 kB)\n",
      "Requirement already satisfied: requests in c:\\program files\\anaconda\\lib\\site-packages (from translate) (2.27.1)\n",
      "Requirement already satisfied: lxml in c:\\users\\eslamia\\appdata\\roaming\\python\\python39\\site-packages (from translate) (4.6.4)\n",
      "Requirement already satisfied: click in c:\\program files\\anaconda\\lib\\site-packages (from translate) (8.0.4)\n",
      "Collecting libretranslatepy==2.1.1\n",
      "  Downloading libretranslatepy-2.1.1-py3-none-any.whl (3.2 kB)\n",
      "Requirement already satisfied: colorama in c:\\program files\\anaconda\\lib\\site-packages (from click->translate) (0.4.4)\n",
      "Requirement already satisfied: certifi>=2017.4.17 in c:\\program files\\anaconda\\lib\\site-packages (from requests->translate) (2021.10.8)\n",
      "Requirement already satisfied: idna<4,>=2.5 in c:\\program files\\anaconda\\lib\\site-packages (from requests->translate) (3.3)\n",
      "Requirement already satisfied: charset-normalizer~=2.0.0 in c:\\program files\\anaconda\\lib\\site-packages (from requests->translate) (2.0.4)\n",
      "Requirement already satisfied: urllib3<1.27,>=1.21.1 in c:\\program files\\anaconda\\lib\\site-packages (from requests->translate) (1.26.9)\n",
      "Installing collected packages: libretranslatepy, translate\n",
      "Successfully installed libretranslatepy-2.1.1 translate-3.6.1\n"
     ]
    }
   ],
   "source": [
    "pip install translate"
   ]
  },
  {
   "cell_type": "code",
   "execution_count": 6,
   "id": "f021613b",
   "metadata": {},
   "outputs": [
    {
     "name": "stdout",
     "output_type": "stream",
     "text": [
      "Defaulting to user installation because normal site-packages is not writeableNote: you may need to restart the kernel to use updated packages.\n",
      "\n",
      "Requirement already satisfied: SpeechRecognition in c:\\users\\eslamia\\appdata\\roaming\\python\\python39\\site-packages (3.8.1)\n"
     ]
    }
   ],
   "source": [
    "pip install SpeechRecognition"
   ]
  },
  {
   "cell_type": "markdown",
   "id": "14db9e5b",
   "metadata": {},
   "source": [
    "# Install translate  playsound library "
   ]
  },
  {
   "cell_type": "code",
   "execution_count": 12,
   "id": "fa78f49f",
   "metadata": {},
   "outputs": [
    {
     "name": "stdout",
     "output_type": "stream",
     "text": [
      "Defaulting to user installation because normal site-packages is not writeable\n",
      "Collecting playsound==1.2.2\n",
      "  Downloading playsound-1.2.2-py2.py3-none-any.whl (6.0 kB)\n",
      "Installing collected packages: playsoundNote: you may need to restart the kernel to use updated packages.\n",
      "\n",
      "  Attempting uninstall: playsound\n",
      "    Found existing installation: playsound 1.3.0\n",
      "    Uninstalling playsound-1.3.0:\n",
      "      Successfully uninstalled playsound-1.3.0\n",
      "Successfully installed playsound-1.2.2\n"
     ]
    }
   ],
   "source": [
    "pip install playsound==1.2.2"
   ]
  },
  {
   "cell_type": "markdown",
   "id": "ab4df865",
   "metadata": {},
   "source": [
    "<h2> Import packages "
   ]
  },
  {
   "cell_type": "code",
   "execution_count": 1,
   "id": "4179a366",
   "metadata": {},
   "outputs": [],
   "source": [
    "import cv2\n",
    "from translate import Translator\n",
    "from gtts import gTTS\n",
    "import playsound\n",
    "import pytesseract\n",
    "import os\n",
    "import speech_recognition as sr"
   ]
  },
  {
   "cell_type": "code",
   "execution_count": null,
   "id": "e4c18310",
   "metadata": {
    "scrolled": true
   },
   "outputs": [],
   "source": [
    "# import the pytesseract app to run it on images\n",
    "img=cv2.imread('IMG-20191017-WA0010.jpg',0)\n",
    "def get_image(image):\n",
    "    pytesseract.pytesseract.tesseract_cmd = r\"D:\\programs\\pytesscract\\tesseract.exe\"\n",
    "    #convert image to text\n",
    "    imgtext=pytesseract.image_to_string(image)\n",
    "    #translate the text into arabic\n",
    "    translator= Translator(from_lang=\"en\",to_lang=\"ar\")\n",
    "    translation = translator.translate(imgtext)\n",
    "    #convert the text into speech\n",
    "    myspeech=gTTS(text=translation,lang='ar',slow=False)\n",
    "    file=\"textspeech.mp3\"\n",
    "    myspeech.save(file)\n",
    "    playsound.playsound(file)\n",
    "    os.remove(file)\n",
    "    \n",
    "    \n",
    "    \n",
    "get_image(img)"
   ]
  }
 ],
 "metadata": {
  "kernelspec": {
   "display_name": "Python 3 (ipykernel)",
   "language": "python",
   "name": "python3"
  },
  "language_info": {
   "codemirror_mode": {
    "name": "ipython",
    "version": 3
   },
   "file_extension": ".py",
   "mimetype": "text/x-python",
   "name": "python",
   "nbconvert_exporter": "python",
   "pygments_lexer": "ipython3",
   "version": "3.9.12"
  }
 },
 "nbformat": 4,
 "nbformat_minor": 5
}
